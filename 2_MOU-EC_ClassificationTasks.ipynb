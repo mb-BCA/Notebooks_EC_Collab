{
 "cells": [
  {
   "cell_type": "markdown",
   "metadata": {},
   "source": [
    "# Classification to identify tasks\n",
    "\n",
    "**Created by: _Matthieu Gilson & Gorka Zamora-López_**\n",
    "\n",
    "The Human Brain Project SGA0 - SGA2 (SP4); SGA3 (WP1)  /  Pompeu Fabra University, Barcelona.\n",
    "\n",
    "<img src=\"Logo_HBP_small.png\" style=\"float:left; width:254px; heigth:50px \" alt=\"HBP logo\" />\n",
    "<img src=\"Logo_UPF_small.png\" style=\"float:right; width:149px; height:50px\"  alt=\"UPF logo\" />\n",
    "\n",
    "\n",
    "<br/>\n",
    "<br/>\n",
    "<br/>\n",
    "<br/>\n",
    "\n",
    "-----------------\n",
    "The purpose of this notebook is to showcase, test and validate the integration of effective connectivity tools in EBRAINS and for use in broader workflows. This notebook should:\n",
    "\n",
    "- Retrieve and load the results of whole-brain EC, estimated previously along the workflow.\n",
    "- Use machine learning tools that are integrated in EBRAINS (Scikit-learn) to perform classification of the data.\n",
    "- Save / export the results and use EBRAINS visualization tools to create fancier outputs, e.g. a brain visualiser.\n",
    "\n",
    "-----------------\n",
    "\n",
    "Here, we will load whole-brain effective previously estimated (see for example the notebook '1_Mou-EC_estimation.ipynb'. The goal is to compare the connectivity measures (in particular, effective versus functional connectivity) in identifying tasks performed by subjects in the scanner. \n",
    "\n",
    "\n",
    "#### References and documentation\n",
    "\n",
    "1. M Gilson, G. Deco, K. Friston et al. (2018) \"Effective connectivity inferred from fMRI transition dynamics during movie viewing points to a balanced reconfiguration of cortical interactions.\" NeuroImage 180, 534-546.\n",
    "DOI: https://doi.org/10.1016/j.neuroimage.2017.09.061\n",
    "2. Gilson M, Zamora-López G, Pallarés V, et al. (2020) \"Model-based whole-brain effective connectivity to study distributed cognition in health and disease\", Network Neurosci. 4(2) 338-373.\n",
    "DOI: https://doi.org/10.1162/netn_a_00117\n",
    "\n",
    "\n",
    "#### Software\n",
    "This Notebook employs Scikit-learn for the classification via machine-learning methods\n",
    "Web: https://scikit-learn.org/stable/\n",
    "GitHub: https://github.com/scikit-learn/scikit-learn\n",
    "\n",
    "\n",
    "#### Data\n",
    "We employ structural connectivity and resting-state fMRI from published data. It consists of recordings for a cohort of 22 healthy participants udergoing five fMRI sessions each: two sessions in resting-state (R1, R2) and three sessions while watching three distinct segments of a movie (M1, M2, M3).\n",
    "\n",
    "1. J. Hlinka, M. Palus, M. Vejmelka, et al. (2011) \"Functional connectivity in resting-state fMRI: is linear correlation sufficient?\" NeuroImage 54, 2218–2225.\n",
    "DOI: https://doi.org/10.1016/j.neuroimage.2010.08.042\n",
    "2. D. Mantini, U. Hasson, V. Betti, et al. (2012) \"Interspecies activity correlations reveal functional correspondence between monkey and human brain areas.\" Nat. Methods 9, 277–282.\n",
    "DOI: https://doi.org/10.1038/nmeth.1868\n",
    "\n",
    "\n",
    "_**TO-DO**: Reproduce this notebook using a dataset accessible in EBRAINS. This \"movie\" dataset is not part of the EBRAINS catalog. At least not yet. See file \"0\\_README.md\" for suggestions._\n",
    "\n",
    "<br>\n",
    "\n"
   ]
  },
  {
   "cell_type": "markdown",
   "metadata": {},
   "source": [
    "---------\n",
    "### TO-DO list towards full EBRAINS integration \n",
    "Missing technical points, for full integration of the workflows in this notebook.\n",
    "\n",
    "- Input data is the result of whole-brain EC estimation, which can simply be stored in Drive and loaded here. But… any fancier interface shall be built?\n",
    "- Interface to visualization services. Visualise results in a \"standard brain map\".\n",
    "\n",
    "<br>"
   ]
  },
  {
   "cell_type": "markdown",
   "metadata": {},
   "source": [
    "----------\n",
    "### Import the dependencies"
   ]
  },
  {
   "cell_type": "code",
   "execution_count": 1,
   "metadata": {},
   "outputs": [],
   "source": [
    "# Import standard library modules\n",
    "import os\n",
    "# Import 3rd party packages\n",
    "import numpy as np\n",
    "import matplotlib.pyplot as plt\n",
    "%matplotlib inline\n",
    "\n",
    "import scipy.stats as stt\n",
    "\n",
    "import sklearn.linear_model as skllm\n",
    "import sklearn.neighbors as sklnn\n",
    "import sklearn.discriminant_analysis as skda\n",
    "import sklearn.preprocessing as skppc\n",
    "import sklearn.pipeline as skppl\n",
    "import sklearn.metrics as skm\n"
   ]
  },
  {
   "cell_type": "markdown",
   "metadata": {},
   "source": [
    "### Load and prepare the data\n",
    "\n",
    "The data required in this notebook is the output of the MOU-EC estimation method previously calculated and saved in, for example, a notebook like '1_MOU-EC_Estimation.ipynb'\n",
    "\n",
    "So far, we will load datafiles stored in the local Drive of this collab: _'.../Effective Connectivity estimation/Datasets/Movie/'_ . The required data files are:\n",
    "\n",
    "- 'ECdata_Movie.npz': zipped file containing various results from the MOU-EC estimation.\n",
    "- 'BOLD_Movie_filtered.npy': BOLD-fMRI (all sessions and subjects) needed to compute the 0-lag covariances\n",
    "\n",
    "We load the data and calculate the features: 'EC' stands for effective connectivity (previously in the workflow, see for example the *1_MOU-EC_Estimation.ipynb* notebook), 'FC' stands for the BOLD correlations, 'FC + mask' for the BOLD correlations only concerning the ROI connections that exist according to the structural data (diffusion tensor imaging), 'PC' for the partial correlations.\n",
    "\n"
   ]
  },
  {
   "cell_type": "code",
   "execution_count": 2,
   "metadata": {},
   "outputs": [
    {
     "data": {
      "text/plain": [
       "'/mnt/user/drive/Shared with groups/Effective Connectivity estimation/Jupyter_Notebooks'"
      ]
     },
     "execution_count": 2,
     "metadata": {},
     "output_type": "execute_result"
    }
   ],
   "source": [
    "%pwd"
   ]
  },
  {
   "cell_type": "code",
   "execution_count": 3,
   "metadata": {},
   "outputs": [
    {
     "name": "stdout",
     "output_type": "stream",
     "text": [
      "Number of subjects: 22\n",
      "Number of sessions: 5\n",
      "Number of ROIs: 66\n"
     ]
    }
   ],
   "source": [
    "## Load the data needed for the fMRI data from the Drive\n",
    "datapath = '/mnt/user/drive/Shared with groups/Effective Connectivity estimation/Datasets/Movie/'\n",
    "\n",
    "# 1) Load data previously generated, e.g., in a notebook like '1_MOU-EC_Estimation.ipynb'\n",
    "ec_data = np.load( datapath + 'ECdata_Movie.npz' )\n",
    "\n",
    "# Effective connectivity matrices\n",
    "EC = ec_data['EC_mod']\n",
    "# Mask of existing connections in SC (structural connectivity)\n",
    "mask_EC = ec_data['mask_EC']\n",
    "# Extract the number of subjects, sessions and nodes\n",
    "n_sub, n_run, N, N = np.shape(EC)\n",
    "\n",
    "\n",
    "# 2) Load the BOLD signals and calculate the 0-lag covariance matrices\n",
    "ts_emp = np.load( datapath + 'BOLD_movie_filtered.npy' )\n",
    "\n",
    "FC0 = np.zeros([n_sub,n_run,N,N], np.float)\n",
    "for i_sub in range(n_sub):\n",
    "    for i_run in range(n_run):\n",
    "        FC0[i_sub,i_run] = np.cov(ts_emp[i_sub,i_run])\n",
    "\n",
    "\n",
    "# Generate a triangular mask to retain half of the matrix elemenets \n",
    "mask_tri = np.tri(N,N, k=-1, dtype=np.bool)\n",
    "\n",
    "# Print some feedback\n",
    "print( 'Number of subjects:', n_sub )\n",
    "print( 'Number of sessions:', n_run )\n",
    "print( 'Number of ROIs:', N )\n"
   ]
  },
  {
   "cell_type": "code",
   "execution_count": 4,
   "metadata": {},
   "outputs": [],
   "source": [
    "# Toggle to True to create directory and store results there\n",
    "save_outputs = False\n",
    "if save_outputs:\n",
    "    import os\n",
    "    res_dir = datapath + 'classif/'\n",
    "    if not os.path.exists(res_dir):\n",
    "        os.mkdir(res_dir)"
   ]
  },
  {
   "cell_type": "markdown",
   "metadata": {},
   "source": [
    "<br>\n",
    "\n",
    "### Perform the task-based classification"
   ]
  },
  {
   "cell_type": "code",
   "execution_count": 5,
   "metadata": {},
   "outputs": [
    {
     "name": "stdout",
     "output_type": "stream",
     "text": [
      "Done\n"
     ]
    }
   ],
   "source": [
    "# Calculate features based on EC (effective connectivity)\n",
    "for i_sub in range(n_sub):\n",
    "    for i_run in range(n_run):\n",
    "        # apply z-scoring to EC\n",
    "        EC[i_sub,i_run,mask_EC] = stt.zscore(EC[i_sub,i_run,mask_EC])\n",
    "\n",
    "# Calculate the features based on FC (functional connectivity)\n",
    "corr = np.copy(FC0)\n",
    "for i_sub in range(n_sub):\n",
    "    for i_run in range(n_run):\n",
    "        corr[i_sub,i_run,:,:] /= np.sqrt( np.outer(corr[i_sub,i_run,:,:].diagonal(), \n",
    "                                                   corr[i_sub,i_run,:,:].diagonal()) )\n",
    "\n",
    "# Calculate the features based on PC (partial correlations)\n",
    "PC = np.copy(FC0)\n",
    "for i_sub in range(n_sub):\n",
    "    for i_run in range(n_run):\n",
    "        PC[i_sub,i_run,:,:] = -np.linalg.pinv(PC[i_sub,i_run,:,:])\n",
    "        PC[i_sub,i_run,:,:] /= np.sqrt( np.outer(PC[i_sub,i_run,:,:].diagonal(), \n",
    "                                                 PC[i_sub,i_run,:,:].diagonal()) )\n",
    "\n",
    "print( 'Done' )"
   ]
  },
  {
   "cell_type": "markdown",
   "metadata": {},
   "source": [
    "The following code performs the task classification by splitting the fMRI sessions into a train set and a test set (`n_rep` times). Here the 22 subjects are split in 80% for training and 20% for testing. We compare 3 classifiers:\n",
    "\n",
    "- MLR is the multinomial logistic regression;\n",
    "- 1NN is the 1-nearest-neighbor;\n",
    "- LDA performs the linear discriminant analysis.\n",
    "\n",
    "See the [scikit-learn](https://scikit-learn.org/stable/) webpage for details.\n",
    "<br>"
   ]
  },
  {
   "cell_type": "code",
   "execution_count": 7,
   "metadata": {},
   "outputs": [
    {
     "name": "stdout",
     "output_type": "stream",
     "text": [
      "Running classification: tasks ...\n",
      "  Repetition 0\n",
      "  Repetition 1\n",
      "  Repetition 2\n",
      "  Repetition 3\n",
      "  Repetition 4\n",
      "  Repetition 5\n",
      "  Repetition 6\n",
      "  Repetition 7\n",
      "  Repetition 8\n",
      "  Repetition 9\n",
      "  Repetition 10\n",
      "  Repetition 11\n",
      "  Repetition 12\n",
      "  Repetition 13\n",
      "  Repetition 14\n",
      "  Repetition 15\n",
      "  Repetition 16\n",
      "  Repetition 17\n",
      "  Repetition 18\n",
      "  Repetition 19\n",
      "  Repetition 20\n",
      "  Repetition 21\n",
      "  Repetition 22\n",
      "  Repetition 23\n",
      "  Repetition 24\n",
      "  Repetition 25\n",
      "  Repetition 26\n",
      "  Repetition 27\n",
      "  Repetition 28\n",
      "  Repetition 29\n",
      "  Repetition 30\n",
      "  Repetition 31\n",
      "  Repetition 32\n",
      "  Repetition 33\n",
      "  Repetition 34\n",
      "  Repetition 35\n",
      "  Repetition 36\n",
      "  Repetition 37\n",
      "  Repetition 38\n",
      "  Repetition 39\n",
      "\n",
      "Running classification: rest vs. movie ...\n",
      "  Repetition 0\n",
      "  Repetition 1\n",
      "  Repetition 2\n",
      "  Repetition 3\n",
      "  Repetition 4\n",
      "  Repetition 5\n",
      "  Repetition 6\n",
      "  Repetition 7\n",
      "  Repetition 8\n",
      "  Repetition 9\n",
      "  Repetition 10\n",
      "  Repetition 11\n",
      "  Repetition 12\n",
      "  Repetition 13\n",
      "  Repetition 14\n",
      "  Repetition 15\n",
      "  Repetition 16\n",
      "  Repetition 17\n",
      "  Repetition 18\n",
      "  Repetition 19\n",
      "  Repetition 20\n",
      "  Repetition 21\n",
      "  Repetition 22\n",
      "  Repetition 23\n",
      "  Repetition 24\n",
      "  Repetition 25\n",
      "  Repetition 26\n",
      "  Repetition 27\n",
      "  Repetition 28\n",
      "  Repetition 29\n",
      "  Repetition 30\n",
      "  Repetition 31\n",
      "  Repetition 32\n",
      "  Repetition 33\n",
      "  Repetition 34\n",
      "  Repetition 35\n",
      "  Repetition 36\n",
      "  Repetition 37\n",
      "  Repetition 38\n",
      "  Repetition 39\n",
      "\n",
      "Finished.\n"
     ]
    }
   ],
   "source": [
    "# WARNING: Running this cell will take a few minutes\n",
    "# Labels of sessions for classification\n",
    "n_conn = 4\n",
    "\n",
    "# distinct labels for movie runs\n",
    "task4_labels = np.repeat( np.array([0,0,1,2,3], \n",
    "                            dtype=np.int).reshape([1,-1]), \n",
    "                            n_sub, axis=0 )\n",
    "# rest versus movie, same labels for movie runs\n",
    "RM_labels = np.repeat( np.array([0,0,1,1,1], \n",
    "                            dtype=np.int).reshape([1,-1]), \n",
    "                            n_sub, axis=0 ) \n",
    "\n",
    "# number of repetitions and storage of results\n",
    "n_rep = 40\n",
    "# first index: task4_labels/RM_labels; last index: MRL/1NN/LDA\n",
    "perf = np.zeros([2,n_rep,n_conn,3])\n",
    "\n",
    "# Loop over classification type\n",
    "for i_classif in range(2):\n",
    "\n",
    "    if i_classif==0:\n",
    "        # discriminate rest and 3 movie sessions individually\n",
    "        lab_tmp = task4_labels\n",
    "        print( 'Running classification: tasks ...' )\n",
    "    else:\n",
    "        # discriminate rest vs movie\n",
    "        lab_tmp = RM_labels\n",
    "        print( '\\nRunning classification: rest vs. movie ...' )\n",
    "\n",
    "    # Repeat classification\n",
    "    for i_rep in range(n_rep):\n",
    "        print( '  Repetition %d' %i_rep )\n",
    "        \n",
    "        # Split run indices in train and test sets \n",
    "        # (choose some subjects for train and rest for test)\n",
    "        train_ind = np.ones([n_sub,n_run], dtype=bool)\n",
    "        while train_ind[:,0].sum() >= 0.8 * n_sub:\n",
    "            train_ind[np.random.randint(n_sub),:] = False\n",
    "        test_ind = np.logical_not(train_ind)        \n",
    "\n",
    "        # Loop over connectivity measures\n",
    "        for i_conn in range(n_conn):\n",
    "\n",
    "            if i_conn==0:\n",
    "                # vectorized EC matrices (only retaining existing connections)\n",
    "                vect_features = EC[:,:,mask_EC]\n",
    "            elif i_conn==1:\n",
    "                # vectorized FC matrices (only retaining low triangle)\n",
    "                vect_features = corr[:,:,mask_tri]\n",
    "            elif i_conn==2:\n",
    "                # vectorized FC matrices (only retaining SC existing connections)\n",
    "                vect_features = corr[:,:,mask_EC]\n",
    "            else:\n",
    "                # vectorized PCmatrices (only retaining low triangle)\n",
    "                vect_features = PC[:,:,mask_tri]\n",
    "\n",
    "            # dimension of vectorized EC\n",
    "            dim_feature = vect_features.shape[2]\n",
    "\n",
    "            # Number of components for LDA\n",
    "            if i_classif==0:\n",
    "                n_comp_LDA = 3\n",
    "            else:\n",
    "                n_comp_LDA = 1\n",
    "\n",
    "            # Classifier and learning parameters\n",
    "            c_MLR = skppl.make_pipeline( skppc.StandardScaler(), \n",
    "                                        skllm.LogisticRegression(C=0.1, \n",
    "                                                                 penalty='l2', \n",
    "                                                                 multi_class='multinomial', \n",
    "                                                                 solver='lbfgs', \n",
    "                                                                 max_iter=500) )\n",
    "            c_1NN = sklnn.KNeighborsClassifier(n_neighbors=1, \n",
    "                                               algorithm='brute', \n",
    "                                               metric='correlation')\n",
    "            c_LDA = skda.LinearDiscriminantAnalysis(n_components=n_comp_LDA, \n",
    "                                                    solver='eigen', \n",
    "                                                    shrinkage='auto')\n",
    "            \n",
    "            # Train and test classifiers with subject labels\n",
    "            c_MLR.fit(vect_features[train_ind,:], lab_tmp[train_ind])\n",
    "            perf[i_classif, i_rep,i_conn,0] = \\\n",
    "                c_MLR.score( vect_features[test_ind,:], lab_tmp[test_ind] )\n",
    "        \n",
    "            c_1NN.fit(vect_features[train_ind,:], lab_tmp[train_ind])\n",
    "            perf[i_classif, i_rep,i_conn,1] = \\\n",
    "                c_1NN.score(vect_features[test_ind,:], lab_tmp[test_ind])\n",
    "        \n",
    "            c_LDA.fit(vect_features[train_ind,:], lab_tmp[train_ind])\n",
    "            perf[i_classif, i_rep,i_conn,2] = \\\n",
    "                c_LDA.score(vect_features[test_ind,:], lab_tmp[test_ind])\n",
    "\n",
    "\n",
    "print( '\\nFinished.')"
   ]
  },
  {
   "cell_type": "code",
   "execution_count": 8,
   "metadata": {},
   "outputs": [
    {
     "name": "stdout",
     "output_type": "stream",
     "text": [
      "\n",
      "Saving the results into files ... \n"
     ]
    }
   ],
   "source": [
    "# Save the results and the metadata into a file for later use\n",
    "res_dir = datapath + 'classif/'\n",
    "if not os.path.exists(res_dir):\n",
    "    os.mkdir(res_dir)\n",
    "\n",
    "np.save( res_dir + 'perf_tasks.npy', perf )\n"
   ]
  },
  {
   "cell_type": "markdown",
   "metadata": {},
   "source": [
    "The performance is interpreted by comparing the classification accuracy with the chance level (the dashed line), in relation with the gap towards 100% correct. Here we can calculate the chance level straight from the session properties.\n",
    "\n",
    "<br>\n",
    "\n",
    "#### Plot the task-classification results"
   ]
  },
  {
   "cell_type": "code",
   "execution_count": 9,
   "metadata": {},
   "outputs": [
    {
     "data": {
      "image/png": "[encoded data removed]",
      "text/plain": [
       "<Figure size 432x288 with 1 Axes>"
      ]
     },
     "metadata": {
      "needs_background": "light"
     },
     "output_type": "display_data"
    },
    {
     "data": {
      "image/png": "[encoded data removed]",
      "text/plain": [
       "<Figure size 432x288 with 1 Axes>"
      ]
     },
     "metadata": {
      "needs_background": "light"
     },
     "output_type": "display_data"
    }
   ],
   "source": [
    "n_conn = 4\n",
    "\n",
    "# Plot rest versus movie\n",
    "# chance level: predicting always movie gives 60% (as compared to predicting rest, 40%)\n",
    "chance_level = 3. / n_run \n",
    "\n",
    "plt.figure()\n",
    "plt.violinplot(perf[1,:,:,0], positions=np.arange(n_conn)-0.25, widths=[0.25]*n_conn)\n",
    "plt.violinplot(perf[1,:,:,1], positions=np.arange(n_conn), widths=[0.25]*n_conn)\n",
    "plt.violinplot(perf[1,:,:,2], positions=np.arange(n_conn)+0.25, widths=[0.25]*n_conn)\n",
    "plt.plot([-1,n_conn], [chance_level]*2, '--k')\n",
    "plt.axis(xmin=-0.6, xmax=n_conn-0.4, ymin=0, ymax=1.01)\n",
    "plt.xticks(range(n_conn), ['EC','FC','FC+mask','PC'], rotation=20)\n",
    "plt.yticks([0,1])\n",
    "plt.ylabel('accuracy', fontsize=14)\n",
    "plt.title('rest versus movie', fontsize=14)\n",
    "\n",
    "#plt.savefig(res_dir + 'perf_RM.png', format='png')\n",
    "\n",
    "# Plot 4 classes (rest, movie1, movie2, movie3)\n",
    "# Chance level: predicting always rest gives 40% (as compared to predicting \n",
    "# a movie session, 20%)\n",
    "chance_level = 2. / n_run \n",
    "\n",
    "plt.figure()\n",
    "plt.violinplot(perf[0,:,:,0], positions=np.arange(n_conn)-0.25, widths=[0.25]*n_conn)\n",
    "plt.violinplot(perf[0,:,:,1], positions=np.arange(n_conn), widths=[0.25]*n_conn)\n",
    "plt.violinplot(perf[0,:,:,2], positions=np.arange(n_conn)+0.25, widths=[0.25]*n_conn)\n",
    "plt.plot([-1,n_conn], [chance_level]*2, '--k')\n",
    "plt.axis(xmin=-0.6,xmax=n_conn-0.4,ymin=0,ymax=1.01)\n",
    "plt.xticks(range(n_conn), ['EC','FC','FC+mask','PC'], rotation=20, fontsize=14)\n",
    "plt.yticks([0,1])\n",
    "plt.ylabel('accuracy', fontsize=14)\n",
    "plt.title('4-task classification', fontsize=14)\n",
    "\n",
    "#plt.savefig(res_dir + 'perf_4tasks.png', format='png')\n",
    "    \n",
    "plt.show()"
   ]
  },
  {
   "cell_type": "markdown",
   "metadata": {},
   "source": [
    "<br>\n",
    "\n",
    "### Confusion matrices ...\n",
    "\n",
    "... are useful to understand the errors performed by the train classifier on the test set. Each row represents the classification of a test sample, with the diagonal element corresponding to the correct classification and off-diagonal elements to errors. Here we separate the 5 sessions to show that the two rest sessions are not separable by the MRL."
   ]
  },
  {
   "cell_type": "code",
   "execution_count": 10,
   "metadata": {},
   "outputs": [],
   "source": [
    "# Use vectorized EC as features\n",
    "vect_features = EC[:,:,mask_EC]\n",
    "                   \n",
    "# Individual labels for each session for classification (separating the 2 rest sessions)\n",
    "# Distinct labels for each run/session\n",
    "run5_labels = np.repeat( np.array([0,1,2,3,4],dtype=np.int).reshape([1,-1]), \n",
    "                         n_sub, \n",
    "                         axis=0 ) \n",
    "\n",
    "# Confusion matrices (1 dimension per condition)\n",
    "conf_mat_MLR = np.zeros([n_rep,n_run,n_run])\n",
    "conf_mat_1NN = np.zeros([n_rep,n_run,n_run])\n",
    "\n",
    "# Perform classification\n",
    "for i_rep in range(n_rep):\n",
    "\n",
    "    # Split run indices in train and test sets \n",
    "    # (choose some subjects for train and rest for test)\n",
    "    train_ind = np.ones([n_sub,n_run],dtype=bool)\n",
    "    while train_ind[:,0].sum() >= 0.8*n_sub:\n",
    "        train_ind[np.random.randint(n_sub),:] = False\n",
    "    test_ind = np.logical_not(train_ind)\n",
    "    \n",
    "    # Train and test classifiers with subject labels\n",
    "    c_MLR.fit( vect_features[train_ind,:], run5_labels[train_ind] )\n",
    "    conf_mat_MLR[i_rep,:,:] = \\\n",
    "            skm.confusion_matrix( y_true=run5_labels[test_ind], \n",
    "                                  y_pred=c_MLR.predict(vect_features[test_ind,:]) )\n",
    "\n",
    "    c_1NN.fit( vect_features[train_ind,:], run5_labels[train_ind] )\n",
    "    conf_mat_1NN[i_rep,:,:] = \\\n",
    "            skm.confusion_matrix( y_true=run5_labels[test_ind], \n",
    "                                  y_pred=c_1NN.predict(vect_features[test_ind,:]) )"
   ]
  },
  {
   "cell_type": "markdown",
   "metadata": {},
   "source": [
    "#### Plot the confusion matrices"
   ]
  },
  {
   "cell_type": "code",
   "execution_count": 11,
   "metadata": {},
   "outputs": [
    {
     "data": {
      "image/png": "[encoded data removed]",
      "text/plain": [
       "<Figure size 432x288 with 2 Axes>"
      ]
     },
     "metadata": {
      "needs_background": "light"
     },
     "output_type": "display_data"
    },
    {
     "data": {
      "image/png": "[encoded data removed]",
      "text/plain": [
       "<Figure size 432x288 with 2 Axes>"
      ]
     },
     "metadata": {
      "needs_background": "light"
     },
     "output_type": "display_data"
    }
   ],
   "source": [
    "plt.figure()\n",
    "plt.imshow(conf_mat_MLR.mean(0), origin='bottom', cmap='Greens', vmin=0, vmax=5)\n",
    "plt.xticks(range(n_run), ['R1','R2','M1','M2','M3'])\n",
    "plt.yticks(range(n_run), ['R1','R2','M1','M2','M3'])\n",
    "plt.colorbar(ticks=range(6))\n",
    "plt.xlabel('Predicted condition', fontsize=14)\n",
    "plt.ylabel('True condition', fontsize=14)\n",
    "plt.title('MLR + EC', fontsize=14)\n",
    "\n",
    "plt.figure()\n",
    "plt.imshow(conf_mat_1NN.mean(0), origin='bottom', cmap='Greens', vmin=0, vmax=5)\n",
    "plt.xticks(range(n_run), ['R1','R2','M1','M2','M3'])\n",
    "plt.yticks(range(n_run), ['R1','R2','M1','M2','M3'])\n",
    "plt.colorbar(ticks=range(6))\n",
    "plt.xlabel('Predicted condition', fontsize=14)\n",
    "plt.ylabel('True condition', fontsize=14)\n",
    "plt.title('1NN + EC', fontsize=14)\n",
    "    \n",
    "plt.show()"
   ]
  },
  {
   "cell_type": "code",
   "execution_count": null,
   "metadata": {},
   "outputs": [],
   "source": []
  },
  {
   "cell_type": "code",
   "execution_count": null,
   "metadata": {},
   "outputs": [],
   "source": []
  }
 ],
 "metadata": {
  "kernelspec": {
   "display_name": "Python 3",
   "language": "python",
   "name": "python3"
  },
  "language_info": {
   "codemirror_mode": {
    "name": "ipython",
    "version": 3
   },
   "file_extension": ".py",
   "mimetype": "text/x-python",
   "name": "python",
   "nbconvert_exporter": "python",
   "pygments_lexer": "ipython3",
   "version": "3.6.9"
  }
 },
 "nbformat": 4,
 "nbformat_minor": 4
}
